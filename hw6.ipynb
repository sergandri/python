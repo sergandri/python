{
 "cells": [
  {
   "cell_type": "code",
   "execution_count": 6,
   "id": "8d968e57",
   "metadata": {},
   "outputs": [],
   "source": [
    "import re"
   ]
  },
  {
   "cell_type": "code",
   "execution_count": 7,
   "id": "b1c223bc",
   "metadata": {},
   "outputs": [
    {
     "name": "stdout",
     "output_type": "stream",
     "text": [
      "Номер А222ВС валиден. Регион: 96.\n",
      "Номер не валиден.\n"
     ]
    }
   ],
   "source": [
    "def check_vehicle_number(number):\n",
    "    pattern = r'([АВЕКМНОРСТУХ]{1}\\d{3}[АВЕКМНОРСТУХ]{2})(\\d{2,3})'\n",
    "    match = re.fullmatch(pattern, number)\n",
    "    if match:\n",
    "        return f'Номер {match.group(1)} валиден. Регион: {match.group(2)}.'\n",
    "    else:\n",
    "        return 'Номер не валиден.'\n",
    "\n",
    "print(check_vehicle_number('А222ВС96'))  \n",
    "print(check_vehicle_number('АБ22ВВ193')) "
   ]
  }
 ],
 "metadata": {
  "kernelspec": {
   "display_name": "Python 3 (ipykernel)",
   "language": "python",
   "name": "python3"
  },
  "language_info": {
   "codemirror_mode": {
    "name": "ipython",
    "version": 3
   },
   "file_extension": ".py",
   "mimetype": "text/x-python",
   "name": "python",
   "nbconvert_exporter": "python",
   "pygments_lexer": "ipython3",
   "version": "3.9.16"
  }
 },
 "nbformat": 4,
 "nbformat_minor": 5
}
