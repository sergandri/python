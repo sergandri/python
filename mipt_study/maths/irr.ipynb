{
 "cells": [
  {
   "cell_type": "code",
   "execution_count": 11,
   "id": "initial_id",
   "metadata": {
    "collapsed": true,
    "ExecuteTime": {
     "end_time": "2023-12-03T22:47:40.762592500Z",
     "start_time": "2023-12-03T22:47:40.747634100Z"
    }
   },
   "outputs": [
    {
     "data": {
      "text/plain": "[0.0, 0.1]"
     },
     "execution_count": 11,
     "metadata": {},
     "output_type": "execute_result"
    }
   ],
   "source": [
    "cash_flows_example = [-10, 21, -11]\n",
    "\n",
    "def calculate_irr(cash_flows):\n",
    "    irrs_list: list[float] = [] \n",
    "    step = 0.01\n",
    "    current_rate= 0.0\n",
    "    while current_rate <= 3:  \n",
    "        npv = sum(cf / (1 + current_rate)**i for i, cf in enumerate(cash_flows))\n",
    "        if npv == 0:\n",
    "            irrs_list.append(round(current_rate,2))\n",
    "        current_rate += step \n",
    "        current_rate += step\n",
    "    return irrs_list\n",
    "\n",
    "# Calculating IRRs\n",
    "final_irr_list = calculate_irr(cash_flows_example)\n",
    "final_irr_list"
   ]
  },
  {
   "cell_type": "code",
   "execution_count": 17,
   "outputs": [
    {
     "data": {
      "text/plain": "[0.354502775632097]"
     },
     "execution_count": 17,
     "metadata": {},
     "output_type": "execute_result"
    }
   ],
   "source": [
    "import sympy as sp\n",
    "mu = sp.symbols('mu')\n",
    "\n",
    "r0 = 0.01  \n",
    "Er1 = 0.02  \n",
    "Er2 = 0.03  \n",
    "sigma_r1 = 0.02  \n",
    "sigma_r2 = 0.04  \n",
    "corr_r1_r2 = 0.5  \n",
    "\n",
    "cov_r1_r2 = corr_r1_r2 * sigma_r1 * sigma_r2\n",
    "\n",
    "Er_portfolio = mu * Er1 + (1 - mu) * Er2\n",
    "\n",
    "var_portfolio = (mu * sigma_r1)**2 + ((1 - mu) * sigma_r2)**2 + 2 * mu * (1 - mu) * cov_r1_r2\n",
    "\n",
    "std_portfolio = sp.sqrt(var_portfolio)\n",
    "constraint = std_portfolio - 0.03\n",
    "solutions = sp.solve(constraint, mu)\n",
    "valid_solutions_no_short_selling = [sol.evalf() for sol in solutions if 0 <= sol.evalf() <= 1]\n",
    "valid_solutions_no_short_selling"
   ],
   "metadata": {
    "collapsed": false,
    "ExecuteTime": {
     "end_time": "2023-12-03T22:55:22.691560Z",
     "start_time": "2023-12-03T22:55:22.405293Z"
    }
   },
   "id": "5f57f24de974aa81"
  }
 ],
 "metadata": {
  "kernelspec": {
   "display_name": "Python 3",
   "language": "python",
   "name": "python3"
  },
  "language_info": {
   "codemirror_mode": {
    "name": "ipython",
    "version": 2
   },
   "file_extension": ".py",
   "mimetype": "text/x-python",
   "name": "python",
   "nbconvert_exporter": "python",
   "pygments_lexer": "ipython2",
   "version": "2.7.6"
  }
 },
 "nbformat": 4,
 "nbformat_minor": 5
}
