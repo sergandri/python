{
 "cells": [
  {
   "cell_type": "code",
   "execution_count": 6,
   "id": "d2fa297a",
   "metadata": {
    "ExecuteTime": {
     "end_time": "2023-12-07T20:34:37.069629500Z",
     "start_time": "2023-12-07T20:34:37.062647600Z"
    }
   },
   "outputs": [],
   "source": [
    "import requests\n",
    "import pandas as pd\n",
    "import numpy as np\n",
    "import matplotlib.pyplot as plt\n",
    "import seaborn as sns\n",
    "import yfinance as yf"
   ]
  },
  {
   "cell_type": "code",
   "execution_count": 7,
   "id": "9c95f599",
   "metadata": {
    "ExecuteTime": {
     "end_time": "2023-12-07T20:34:37.333991200Z",
     "start_time": "2023-12-07T20:34:37.324018Z"
    }
   },
   "outputs": [],
   "source": [
    "from datetime import datetime, timedelta\n",
    "from concurrent.futures import ThreadPoolExecutor, as_completed\n",
    "from tqdm import tqdm\n",
    "from io import StringIO\n",
    "from statsmodels.tsa.stattools import adfuller"
   ]
  },
  {
   "cell_type": "markdown",
   "source": [
    "Проверить на стационарность ряд цены на нефть (https://finance.yahoo.com/quote/BZ%3DF/history?\n",
    "period1=1185753600&period2=1666310400&interval=1d&filter=history\n",
    "&frequency=1d&includeAdjustedClose=true)."
   ],
   "metadata": {
    "collapsed": false
   },
   "id": "29079f95f93963cf"
  },
  {
   "cell_type": "code",
   "execution_count": 8,
   "outputs": [
    {
     "name": "stdout",
     "output_type": "stream",
     "text": [
      "[*********************100%%**********************]  1 of 1 completed\n"
     ]
    }
   ],
   "source": [
    "ticker = \"BZ=F\"\n",
    "start_date = \"2022-12-07\"\n",
    "end_date = \"2023-12-07\"\n",
    "brent_df = yf.download(ticker, start=start_date, end=end_date)"
   ],
   "metadata": {
    "collapsed": false,
    "ExecuteTime": {
     "end_time": "2023-12-07T20:34:37.744816200Z",
     "start_time": "2023-12-07T20:34:37.699937400Z"
    }
   },
   "id": "cdd1013f1d5c9e0b"
  },
  {
   "cell_type": "markdown",
   "source": [],
   "metadata": {
    "collapsed": false
   },
   "id": "f99c1ea02bc73457"
  },
  {
   "cell_type": "markdown",
   "source": [
    "Проводим расширенный тест Дики-Фуллера. Сформируем гипотезы:\n",
    "Нулевая гипотеза (H0) предполагает наличие единичного корня - временной ряд нестационарен.\n",
    "Альтернативная гипотеза (H1) предполагает отсутствие единичного корня - временной ряд стационарен.\n",
    "Статистика ADF рассчитывается на основе авторегрессионного уравнения. Если статистика меньше критического значения, нулевая гипотеза отвергается.\n",
    "В тесте будет рассчитано p-value. Установим уровень значимости 0.05 и будем отвергать нуль гипотезу при превышении p-value этого уровня."
   ],
   "metadata": {
    "collapsed": false
   },
   "id": "593c5608c17b2e4"
  },
  {
   "cell_type": "code",
   "execution_count": 9,
   "outputs": [
    {
     "data": {
      "text/plain": "(-2.305585912161266,\n 0.17017273237575237,\n 0,\n 251,\n {'1%': -3.4566744514553016,\n  '5%': -2.8731248767783426,\n  '10%': -2.5729436702592023},\n 901.9474330849062)"
     },
     "execution_count": 9,
     "metadata": {},
     "output_type": "execute_result"
    }
   ],
   "source": [
    "adf_test = adfuller(brent_df ['Close'])\n",
    "adf_test"
   ],
   "metadata": {
    "collapsed": false,
    "ExecuteTime": {
     "end_time": "2023-12-07T20:34:38.437433400Z",
     "start_time": "2023-12-07T20:34:38.419482500Z"
    }
   },
   "id": "dd9da5027fba4867"
  },
  {
   "cell_type": "markdown",
   "source": [
    "\n",
    "Мы получили статистику -2.3, что меньше критического значения для 5% уровня значимости. p-value 0.17 > 0.05\n",
    "Таким образом, не получилось отвергнуть нуль гипотезу, временной ряд нестационарен"
   ],
   "metadata": {
    "collapsed": false
   },
   "id": "73709b8bf22067af"
  },
  {
   "cell_type": "code",
   "execution_count": null,
   "outputs": [],
   "source": [],
   "metadata": {
    "collapsed": false
   },
   "id": "66c089d77c7027e9"
  }
 ],
 "metadata": {
  "kernelspec": {
   "display_name": "Python 3 (ipykernel)",
   "language": "python",
   "name": "python3"
  },
  "language_info": {
   "codemirror_mode": {
    "name": "ipython",
    "version": 3
   },
   "file_extension": ".py",
   "mimetype": "text/x-python",
   "name": "python",
   "nbconvert_exporter": "python",
   "pygments_lexer": "ipython3",
   "version": "3.9.16"
  }
 },
 "nbformat": 4,
 "nbformat_minor": 5
}
