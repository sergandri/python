{
 "cells": [
  {
   "cell_type": "code",
   "execution_count": 1,
   "id": "initial_id",
   "metadata": {
    "collapsed": true,
    "ExecuteTime": {
     "end_time": "2023-12-09T23:04:49.448073300Z",
     "start_time": "2023-12-09T23:04:49.434591100Z"
    }
   },
   "outputs": [],
   "source": [
    "import pandas as pd"
   ]
  },
  {
   "cell_type": "code",
   "execution_count": 2,
   "outputs": [],
   "source": [
    "df = pd.read_csv('movies_stats.csv')"
   ],
   "metadata": {
    "collapsed": false,
    "ExecuteTime": {
     "end_time": "2023-12-09T23:04:49.543042Z",
     "start_time": "2023-12-09T23:04:49.450068900Z"
    }
   },
   "id": "45c510867f8ef211"
  },
  {
   "cell_type": "code",
   "execution_count": 3,
   "outputs": [
    {
     "data": {
      "text/plain": "   userId  movieId  rating   timestamp                   title genres\n0       1       31     2.5  1260759144  Dangerous Minds (1995)  Drama",
      "text/html": "<div>\n<style scoped>\n    .dataframe tbody tr th:only-of-type {\n        vertical-align: middle;\n    }\n\n    .dataframe tbody tr th {\n        vertical-align: top;\n    }\n\n    .dataframe thead th {\n        text-align: right;\n    }\n</style>\n<table border=\"1\" class=\"dataframe\">\n  <thead>\n    <tr style=\"text-align: right;\">\n      <th></th>\n      <th>userId</th>\n      <th>movieId</th>\n      <th>rating</th>\n      <th>timestamp</th>\n      <th>title</th>\n      <th>genres</th>\n    </tr>\n  </thead>\n  <tbody>\n    <tr>\n      <th>0</th>\n      <td>1</td>\n      <td>31</td>\n      <td>2.5</td>\n      <td>1260759144</td>\n      <td>Dangerous Minds (1995)</td>\n      <td>Drama</td>\n    </tr>\n  </tbody>\n</table>\n</div>"
     },
     "execution_count": 3,
     "metadata": {},
     "output_type": "execute_result"
    }
   ],
   "source": [
    "df.head(1)"
   ],
   "metadata": {
    "collapsed": false,
    "ExecuteTime": {
     "end_time": "2023-12-09T23:04:49.559976700Z",
     "start_time": "2023-12-09T23:04:49.548028400Z"
    }
   },
   "id": "9b915c95d093912c"
  },
  {
   "cell_type": "code",
   "execution_count": 4,
   "outputs": [
    {
     "name": "stdout",
     "output_type": "stream",
     "text": [
      "<class 'pandas.core.frame.DataFrame'>\n",
      "RangeIndex: 100004 entries, 0 to 100003\n",
      "Data columns (total 6 columns):\n",
      " #   Column     Non-Null Count   Dtype  \n",
      "---  ------     --------------   -----  \n",
      " 0   userId     100004 non-null  int64  \n",
      " 1   movieId    100004 non-null  int64  \n",
      " 2   rating     100004 non-null  float64\n",
      " 3   timestamp  100004 non-null  int64  \n",
      " 4   title      100004 non-null  object \n",
      " 5   genres     100004 non-null  object \n",
      "dtypes: float64(1), int64(3), object(2)\n",
      "memory usage: 4.6+ MB\n"
     ]
    }
   ],
   "source": [
    "df.info()"
   ],
   "metadata": {
    "collapsed": false,
    "ExecuteTime": {
     "end_time": "2023-12-09T23:04:49.645963700Z",
     "start_time": "2023-12-09T23:04:49.560974800Z"
    }
   },
   "id": "d0d001e937f425eb"
  },
  {
   "cell_type": "code",
   "execution_count": 5,
   "outputs": [],
   "source": [
    "years = list(range(1950, 2011))"
   ],
   "metadata": {
    "collapsed": false,
    "ExecuteTime": {
     "end_time": "2023-12-09T23:04:49.653942700Z",
     "start_time": "2023-12-09T23:04:49.592888500Z"
    }
   },
   "id": "9183c735aab695cc"
  },
  {
   "cell_type": "code",
   "execution_count": 6,
   "outputs": [],
   "source": [
    "def production_year(title, years):\n",
    "    for year in years:\n",
    "        if f'({year})' in title:\n",
    "            return year\n",
    "    return 1900"
   ],
   "metadata": {
    "collapsed": false,
    "ExecuteTime": {
     "end_time": "2023-12-09T23:04:49.653942700Z",
     "start_time": "2023-12-09T23:04:49.609063300Z"
    }
   },
   "id": "977dd9afd82a0445"
  },
  {
   "cell_type": "code",
   "execution_count": 7,
   "outputs": [],
   "source": [
    "df['year'] = df['title'].apply(lambda x: production_year(x, years))"
   ],
   "metadata": {
    "collapsed": false,
    "ExecuteTime": {
     "end_time": "2023-12-09T23:04:50.620359800Z",
     "start_time": "2023-12-09T23:04:49.624023800Z"
    }
   },
   "id": "b14bf8b2491e1ab9"
  },
  {
   "cell_type": "code",
   "execution_count": 8,
   "outputs": [
    {
     "data": {
      "text/plain": "0"
     },
     "execution_count": 8,
     "metadata": {},
     "output_type": "execute_result"
    }
   ],
   "source": [
    "df['year'].isna().sum()"
   ],
   "metadata": {
    "collapsed": false,
    "ExecuteTime": {
     "end_time": "2023-12-09T23:04:50.638311700Z",
     "start_time": "2023-12-09T23:04:50.626343800Z"
    }
   },
   "id": "cd65c5a3adbce6ee"
  },
  {
   "cell_type": "code",
   "execution_count": 9,
   "outputs": [
    {
     "data": {
      "text/plain": "6929"
     },
     "execution_count": 9,
     "metadata": {},
     "output_type": "execute_result"
    }
   ],
   "source": [
    "len(df.query('year == 1900 and year not in title'))"
   ],
   "metadata": {
    "collapsed": false,
    "ExecuteTime": {
     "end_time": "2023-12-09T23:04:50.687181400Z",
     "start_time": "2023-12-09T23:04:50.638311700Z"
    }
   },
   "id": "7ee373f58e2bba60"
  },
  {
   "cell_type": "markdown",
   "source": [
    "также в датасете были фильмы ранее 1950г"
   ],
   "metadata": {
    "collapsed": false
   },
   "id": "84781ae3101d1f73"
  },
  {
   "cell_type": "code",
   "execution_count": 10,
   "outputs": [
    {
     "data": {
      "text/plain": "year\n1957    4.014241\n1972    4.011136\n1952    4.000000\n1954    3.994220\n1951    3.983539\n          ...   \n2005    3.448434\n2003    3.444777\n1996    3.426600\n1997    3.415764\n2000    3.355945\nName: rating, Length: 62, dtype: float64"
     },
     "execution_count": 10,
     "metadata": {},
     "output_type": "execute_result"
    }
   ],
   "source": [
    "average_ratings = df.groupby(by = 'year')['rating'].mean().sort_values(ascending=False)\n",
    "average_ratings"
   ],
   "metadata": {
    "collapsed": false,
    "ExecuteTime": {
     "end_time": "2023-12-09T23:04:50.742034200Z",
     "start_time": "2023-12-09T23:04:50.690173800Z"
    }
   },
   "id": "b40e357a4080e902"
  }
 ],
 "metadata": {
  "kernelspec": {
   "display_name": "Python 3",
   "language": "python",
   "name": "python3"
  },
  "language_info": {
   "codemirror_mode": {
    "name": "ipython",
    "version": 2
   },
   "file_extension": ".py",
   "mimetype": "text/x-python",
   "name": "python",
   "nbconvert_exporter": "python",
   "pygments_lexer": "ipython2",
   "version": "2.7.6"
  }
 },
 "nbformat": 4,
 "nbformat_minor": 5
}
