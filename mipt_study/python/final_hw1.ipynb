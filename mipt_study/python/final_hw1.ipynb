{
 "cells": [
  {
   "cell_type": "code",
   "execution_count": 2,
   "id": "initial_id",
   "metadata": {
    "collapsed": true,
    "ExecuteTime": {
     "end_time": "2023-12-09T15:53:36.686318400Z",
     "start_time": "2023-12-09T15:53:36.673172300Z"
    }
   },
   "outputs": [],
   "source": [
    "import pandas as pd"
   ]
  },
  {
   "cell_type": "code",
   "execution_count": 3,
   "outputs": [],
   "source": [
    "df = pd.read_csv('movies_stats.csv')"
   ],
   "metadata": {
    "collapsed": false,
    "ExecuteTime": {
     "end_time": "2023-12-09T15:53:36.795050300Z",
     "start_time": "2023-12-09T15:53:36.688312200Z"
    }
   },
   "id": "45c510867f8ef211"
  },
  {
   "cell_type": "code",
   "execution_count": 7,
   "outputs": [
    {
     "data": {
      "text/plain": "   userId  movieId  rating   timestamp  \\\n0       1       31     2.5  1260759144   \n1       1     1029     3.0  1260759179   \n2       1     1061     3.0  1260759182   \n3       1     1129     2.0  1260759185   \n4       1     1172     4.0  1260759205   \n5       1     1263     2.0  1260759151   \n6       1     1287     2.0  1260759187   \n7       1     1293     2.0  1260759148   \n8       1     1339     3.5  1260759125   \n9       1     1343     2.0  1260759131   \n\n                                            title  \\\n0                          Dangerous Minds (1995)   \n1                                    Dumbo (1941)   \n2                                 Sleepers (1996)   \n3                     Escape from New York (1981)   \n4  Cinema Paradiso (Nuovo cinema Paradiso) (1989)   \n5                         Deer Hunter, The (1978)   \n6                                  Ben-Hur (1959)   \n7                                   Gandhi (1982)   \n8          Dracula (Bram Stoker's Dracula) (1992)   \n9                                Cape Fear (1991)   \n\n                             genres  \n0                             Drama  \n1  Animation|Children|Drama|Musical  \n2                          Thriller  \n3  Action|Adventure|Sci-Fi|Thriller  \n4                             Drama  \n5                         Drama|War  \n6            Action|Adventure|Drama  \n7                             Drama  \n8   Fantasy|Horror|Romance|Thriller  \n9                          Thriller  ",
      "text/html": "<div>\n<style scoped>\n    .dataframe tbody tr th:only-of-type {\n        vertical-align: middle;\n    }\n\n    .dataframe tbody tr th {\n        vertical-align: top;\n    }\n\n    .dataframe thead th {\n        text-align: right;\n    }\n</style>\n<table border=\"1\" class=\"dataframe\">\n  <thead>\n    <tr style=\"text-align: right;\">\n      <th></th>\n      <th>userId</th>\n      <th>movieId</th>\n      <th>rating</th>\n      <th>timestamp</th>\n      <th>title</th>\n      <th>genres</th>\n    </tr>\n  </thead>\n  <tbody>\n    <tr>\n      <th>0</th>\n      <td>1</td>\n      <td>31</td>\n      <td>2.5</td>\n      <td>1260759144</td>\n      <td>Dangerous Minds (1995)</td>\n      <td>Drama</td>\n    </tr>\n    <tr>\n      <th>1</th>\n      <td>1</td>\n      <td>1029</td>\n      <td>3.0</td>\n      <td>1260759179</td>\n      <td>Dumbo (1941)</td>\n      <td>Animation|Children|Drama|Musical</td>\n    </tr>\n    <tr>\n      <th>2</th>\n      <td>1</td>\n      <td>1061</td>\n      <td>3.0</td>\n      <td>1260759182</td>\n      <td>Sleepers (1996)</td>\n      <td>Thriller</td>\n    </tr>\n    <tr>\n      <th>3</th>\n      <td>1</td>\n      <td>1129</td>\n      <td>2.0</td>\n      <td>1260759185</td>\n      <td>Escape from New York (1981)</td>\n      <td>Action|Adventure|Sci-Fi|Thriller</td>\n    </tr>\n    <tr>\n      <th>4</th>\n      <td>1</td>\n      <td>1172</td>\n      <td>4.0</td>\n      <td>1260759205</td>\n      <td>Cinema Paradiso (Nuovo cinema Paradiso) (1989)</td>\n      <td>Drama</td>\n    </tr>\n    <tr>\n      <th>5</th>\n      <td>1</td>\n      <td>1263</td>\n      <td>2.0</td>\n      <td>1260759151</td>\n      <td>Deer Hunter, The (1978)</td>\n      <td>Drama|War</td>\n    </tr>\n    <tr>\n      <th>6</th>\n      <td>1</td>\n      <td>1287</td>\n      <td>2.0</td>\n      <td>1260759187</td>\n      <td>Ben-Hur (1959)</td>\n      <td>Action|Adventure|Drama</td>\n    </tr>\n    <tr>\n      <th>7</th>\n      <td>1</td>\n      <td>1293</td>\n      <td>2.0</td>\n      <td>1260759148</td>\n      <td>Gandhi (1982)</td>\n      <td>Drama</td>\n    </tr>\n    <tr>\n      <th>8</th>\n      <td>1</td>\n      <td>1339</td>\n      <td>3.5</td>\n      <td>1260759125</td>\n      <td>Dracula (Bram Stoker's Dracula) (1992)</td>\n      <td>Fantasy|Horror|Romance|Thriller</td>\n    </tr>\n    <tr>\n      <th>9</th>\n      <td>1</td>\n      <td>1343</td>\n      <td>2.0</td>\n      <td>1260759131</td>\n      <td>Cape Fear (1991)</td>\n      <td>Thriller</td>\n    </tr>\n  </tbody>\n</table>\n</div>"
     },
     "execution_count": 7,
     "metadata": {},
     "output_type": "execute_result"
    }
   ],
   "source": [
    "df.head(10)"
   ],
   "metadata": {
    "collapsed": false,
    "ExecuteTime": {
     "end_time": "2023-12-09T15:55:01.560003500Z",
     "start_time": "2023-12-09T15:55:01.532077700Z"
    }
   },
   "id": "9b915c95d093912c"
  },
  {
   "cell_type": "code",
   "execution_count": 5,
   "outputs": [
    {
     "name": "stdout",
     "output_type": "stream",
     "text": [
      "<class 'pandas.core.frame.DataFrame'>\n",
      "RangeIndex: 100004 entries, 0 to 100003\n",
      "Data columns (total 6 columns):\n",
      " #   Column     Non-Null Count   Dtype  \n",
      "---  ------     --------------   -----  \n",
      " 0   userId     100004 non-null  int64  \n",
      " 1   movieId    100004 non-null  int64  \n",
      " 2   rating     100004 non-null  float64\n",
      " 3   timestamp  100004 non-null  int64  \n",
      " 4   title      100004 non-null  object \n",
      " 5   genres     100004 non-null  object \n",
      "dtypes: float64(1), int64(3), object(2)\n",
      "memory usage: 4.6+ MB\n"
     ]
    }
   ],
   "source": [
    "df.info()"
   ],
   "metadata": {
    "collapsed": false,
    "ExecuteTime": {
     "end_time": "2023-12-09T15:53:36.980230500Z",
     "start_time": "2023-12-09T15:53:36.828936500Z"
    }
   },
   "id": "d0d001e937f425eb"
  },
  {
   "cell_type": "code",
   "execution_count": 1,
   "outputs": [],
   "source": [
    "years = list(range(1950, 2011))"
   ],
   "metadata": {
    "collapsed": false,
    "ExecuteTime": {
     "end_time": "2023-12-09T15:53:36.672175500Z",
     "start_time": "2023-12-09T15:53:36.659984100Z"
    }
   },
   "id": "9183c735aab695cc"
  },
  {
   "cell_type": "code",
   "execution_count": 8,
   "outputs": [],
   "source": [
    "def production_year(title, years):\n",
    "    for year in years:\n",
    "        if f'({year})' in title:\n",
    "            return year\n",
    "    return 1900"
   ],
   "metadata": {
    "collapsed": false,
    "ExecuteTime": {
     "end_time": "2023-12-09T15:56:43.620093700Z",
     "start_time": "2023-12-09T15:56:43.605134Z"
    }
   },
   "id": "977dd9afd82a0445"
  },
  {
   "cell_type": "code",
   "execution_count": 9,
   "outputs": [],
   "source": [
    "df['year'] = df['title'].apply(lambda x: production_year(x, years))"
   ],
   "metadata": {
    "collapsed": false,
    "ExecuteTime": {
     "end_time": "2023-12-09T15:56:45.671988700Z",
     "start_time": "2023-12-09T15:56:44.843019500Z"
    }
   },
   "id": "b14bf8b2491e1ab9"
  },
  {
   "cell_type": "code",
   "execution_count": 14,
   "outputs": [
    {
     "data": {
      "text/plain": "0"
     },
     "execution_count": 14,
     "metadata": {},
     "output_type": "execute_result"
    }
   ],
   "source": [
    "df['year'].isna().sum()"
   ],
   "metadata": {
    "collapsed": false,
    "ExecuteTime": {
     "end_time": "2023-12-09T16:10:04.838596200Z",
     "start_time": "2023-12-09T16:10:04.823637300Z"
    }
   },
   "id": "cd65c5a3adbce6ee"
  },
  {
   "cell_type": "code",
   "execution_count": 17,
   "outputs": [
    {
     "data": {
      "text/plain": "6929"
     },
     "execution_count": 17,
     "metadata": {},
     "output_type": "execute_result"
    }
   ],
   "source": [
    "len(df.query('year == 1900 and year not in title'))"
   ],
   "metadata": {
    "collapsed": false,
    "ExecuteTime": {
     "end_time": "2023-12-09T16:11:42.104021700Z",
     "start_time": "2023-12-09T16:11:42.038171100Z"
    }
   },
   "id": "7ee373f58e2bba60"
  },
  {
   "cell_type": "code",
   "execution_count": 18,
   "outputs": [
    {
     "data": {
      "text/plain": "year\n1957    4.014241\n1972    4.011136\n1952    4.000000\n1954    3.994220\n1951    3.983539\n          ...   \n2005    3.448434\n2003    3.444777\n1996    3.426600\n1997    3.415764\n2000    3.355945\nName: rating, Length: 62, dtype: float64"
     },
     "execution_count": 18,
     "metadata": {},
     "output_type": "execute_result"
    }
   ],
   "source": [
    "average_ratings = df.groupby(by = 'year')['rating'].mean().sort_values(ascending=False)\n",
    "average_ratings"
   ],
   "metadata": {
    "collapsed": false,
    "ExecuteTime": {
     "end_time": "2023-12-09T16:12:36.984917300Z",
     "start_time": "2023-12-09T16:12:36.965968900Z"
    }
   },
   "id": "b40e357a4080e902"
  },
  {
   "cell_type": "code",
   "execution_count": null,
   "outputs": [],
   "source": [],
   "metadata": {
    "collapsed": false
   },
   "id": "acf0842183309a27"
  }
 ],
 "metadata": {
  "kernelspec": {
   "display_name": "Python 3",
   "language": "python",
   "name": "python3"
  },
  "language_info": {
   "codemirror_mode": {
    "name": "ipython",
    "version": 2
   },
   "file_extension": ".py",
   "mimetype": "text/x-python",
   "name": "python",
   "nbconvert_exporter": "python",
   "pygments_lexer": "ipython2",
   "version": "2.7.6"
  }
 },
 "nbformat": 4,
 "nbformat_minor": 5
}
