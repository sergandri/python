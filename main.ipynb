import json
import os
from typing import Dict
from pydantic import BaseModel, ValidationError
from itertools import islice
import chardet


class UserData(BaseModel):
    user_id: str
    category: str


def detect_file_encoding(file_path: str) -> str:
    """Detect encoding."""
    with open(file_path, 'rb') as file:
        result = chardet.detect(file.read())
    return result['encoding']


def read_file_to_dict(file_path: str) -> Dict[str, str]:
    """
    Read txt, convert to dict, print two rows.

    Task:
        Задание 1
        Переведите содержимое файла purchase_log.txt
        в словарь purchases вида:
        {‘1840e0b9d4’: ‘Продукты’, …}

        Пример работы программы при выводе первых
        двух элементов словаря purchases:
        1840e0b9d4 ‘Продукты‘
        4e4f90fcfb  ‘Электроника‘


    Args:
        file_path: path to the file.

    Returns:
        A dictionary with keys and values from the file.
    """
    output_dict = {}

    encoding = detect_file_encoding(file_path)

    with open(file_path, "r", encoding=encoding) as file:
        # skip header
        next(file)

        for line_num, line in enumerate(file, 2):
            try:
                data = UserData(**json.loads(line.strip()))
                output_dict[data.user_id] = data.category
            except ValidationError as e:
                print(f"Error on line {line_num}: {e}")
            except json.JSONDecodeError:
                print(f"Error decoding JSON on line {line_num}.")

    return output_dict


def first_two_items(d: Dict) -> Dict:
    """get two rows."""
    return dict(islice(d.items(), 2))


if __name__ == "__main__":
    # file dir
    DEFAULT_FILE_PATH = os.path.join(os.path.dirname(os.path.abspath(__file__)), "purchase_log.txt")

    try:
        data_dict = read_file_to_dict(DEFAULT_FILE_PATH)
        if not data_dict:
            print("The file does not contain valid data entries after the header.")
        else:
            output = first_two_items(data_dict)
            for key, value in output.items():
                print(f"{key} '{value}'")  # обертываем значение value в одинарные кавычки
    except FileNotFoundError:
        print(f"File '{DEFAULT_FILE_PATH}' not found.")
