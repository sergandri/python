{
 "cells": [
  {
   "cell_type": "code",
   "execution_count": null,
   "id": "b4e95e3f",
   "metadata": {},
   "outputs": [],
   "source": [
    "import os\n",
    "import csv\n",
    "import json\n",
    "import sys\n",
    "from typing import Optional\n",
    "from pydantic import BaseModel, ValidationError"
   ]
  },
  {
   "cell_type": "code",
   "execution_count": null,
   "id": "ac41d3b4",
   "metadata": {},
   "outputs": [],
   "source": [
    "# Модель данных для покупок\n",
    "class PurchaseData(BaseModel):\n",
    "    user_id: str\n",
    "    category: str"
   ]
  },
  {
   "cell_type": "code",
   "execution_count": null,
   "id": "e55082bf",
   "metadata": {},
   "outputs": [],
   "source": [
    "# Модель данных для посещений\n",
    "class VisitData(BaseModel):\n",
    "    user_id: str\n",
    "    source: Optional[str]"
   ]
  },
  {
   "cell_type": "code",
   "execution_count": null,
   "id": "dda20aa2",
   "metadata": {},
   "outputs": [],
   "source": [
    "def process_files(purchases_path: str, visits_path: str, output_path: str) -> None:\n",
    "    \"\"\"Обработка файлов и создание funnel.csv.\"\"\"\n",
    "\n",
    "    purchases = {}\n",
    "\n",
    "    # Чтение файла с покупками\n",
    "    with open(purchases_path, \"r\", encoding=\"utf-8\") as f:\n",
    "        next(f)  # пропускаем заголовок\n",
    "        for line in f:\n",
    "            try:\n",
    "                data = json.loads(line.strip())\n",
    "                purchase = PurchaseData(**data)\n",
    "                purchases[purchase.user_id] = purchase.category\n",
    "            except (ValidationError, json.JSONDecodeError):\n",
    "                continue\n",
    "\n",
    "    # Обработка файлов с посещениями и запись в выходной файл\n",
    "    with open(visits_path, \"r\", encoding=\"utf-8\") as f_visits, \\\n",
    "            open(output_path, \"w\", newline='', encoding='utf-8') as f_output:\n",
    "        reader = csv.reader(f_visits)\n",
    "        writer = csv.writer(f_output)\n",
    "\n",
    "        next(reader)  # пропускаем заголовок файла посещений\n",
    "        writer.writerow([\"user_id\", \"source\", \"category\"])\n",
    "\n",
    "        for row in reader:\n",
    "            try:\n",
    "                data = {'user_id': row[0], 'source': row[1]}\n",
    "                visit = VisitData(**data)\n",
    "                if visit.user_id in purchases:\n",
    "                    writer.writerow([visit.user_id, visit.source, purchases[visit.user_id]])\n",
    "            except (ValidationError, IndexError):\n",
    "                continue"
   ]
  },
  {
   "cell_type": "code",
   "execution_count": null,
   "id": "e8d28687",
   "metadata": {},
   "outputs": [],
   "source": [
    "def run_homework():\n",
    "    \"\"\"Главная функция.\"\"\"\n",
    "\n",
    "    # Определение путей к файлам\n",
    "    base_dir = os.getcwd() if 'ipykernel' in sys.modules else os.path.dirname(os.path.abspath(__file__))\n",
    "\n",
    "    purchases_path = os.path.join(base_dir, 'purchase_log.txt')\n",
    "    visits_path = os.path.join(base_dir, 'visit_log.csv')\n",
    "    output_path = os.path.join(base_dir, 'funnel.csv')\n",
    "\n",
    "    process_files(purchases_path, visits_path, output_path)\n",
    "\n",
    "    # Выводим первые 3 строки из выходного файла\n",
    "    with open(output_path, \"r\", encoding=\"utf-8\") as f:\n",
    "        for _ in range(3):\n",
    "            print(f.readline().strip())"
   ]
  },
  {
   "cell_type": "code",
   "execution_count": null,
   "id": "6dc30b0e",
   "metadata": {},
   "outputs": [],
   "source": [
    "if __name__ == \"__main__\":\n",
    "    run_homework()"
   ]
  }
 ],
 "metadata": {
  "jupytext": {
   "cell_metadata_filter": "-all",
   "main_language": "python",
   "notebook_metadata_filter": "-all"
  }
 },
 "nbformat": 4,
 "nbformat_minor": 5
}
