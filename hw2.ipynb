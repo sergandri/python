{
 "cells": [
  {
   "cell_type": "code",
   "execution_count": 1,
   "id": "10f6e6bc",
   "metadata": {},
   "outputs": [],
   "source": [
    "import os\n",
    "import csv\n",
    "import json\n",
    "import sys\n",
    "from typing import Optional\n",
    "from pydantic import BaseModel, ValidationError"
   ]
  },
  {
   "cell_type": "code",
   "execution_count": 2,
   "id": "8aec66c6",
   "metadata": {},
   "outputs": [],
   "source": [
    "# Модель данных для покупок\n",
    "class PurchaseData(BaseModel):\n",
    "    user_id: str\n",
    "    category: str"
   ]
  },
  {
   "cell_type": "code",
   "execution_count": 3,
   "id": "35d51c0e",
   "metadata": {},
   "outputs": [],
   "source": [
    "# Модель данных для каналов\n",
    "class VisitData(BaseModel):\n",
    "    user_id: str\n",
    "    source: Optional[str]"
   ]
  },
  {
   "cell_type": "code",
   "execution_count": 4,
   "id": "2957abb9",
   "metadata": {},
   "outputs": [],
   "source": [
    "def process_files(purchases_path: str, visits_path: str, output_path: str) -> None:\n",
    "    \"\"\"Обработка файлов и создание funnel.csv.\"\"\"\n",
    "\n",
    "    purchases = {}\n",
    "\n",
    "    # Чтение файла с покупками\n",
    "    with open(purchases_path, \"r\", encoding=\"utf-8\") as f:\n",
    "        next(f)  \n",
    "        for line in f:\n",
    "            try:\n",
    "                data = json.loads(line.strip())\n",
    "                purchase = PurchaseData(**data)\n",
    "                purchases[purchase.user_id] = purchase.category\n",
    "            except (ValidationError, json.JSONDecodeError):\n",
    "                continue\n",
    "\n",
    "    # Обработка файлов с посещениями и запись в выходной файл\n",
    "    with open(visits_path, \"r\", encoding=\"utf-8\") as f_visits, \\\n",
    "            open(output_path, \"w\", newline='', encoding='utf-8') as f_output:\n",
    "        reader = csv.reader(f_visits)\n",
    "        writer = csv.writer(f_output)\n",
    "\n",
    "        next(reader)  # пропускаем заголовок файла посещений\n",
    "        writer.writerow([\"user_id\", \"source\", \"category\"])\n",
    "\n",
    "        for row in reader:\n",
    "            try:\n",
    "                data = {'user_id': row[0], 'source': row[1]}\n",
    "                visit = VisitData(**data)\n",
    "                if visit.user_id in purchases:\n",
    "                    writer.writerow([visit.user_id, visit.source, purchases[visit.user_id]])\n",
    "            except (ValidationError, IndexError):\n",
    "                continue"
   ]
  },
  {
   "cell_type": "code",
   "execution_count": 5,
   "id": "3ce7d1bf",
   "metadata": {},
   "outputs": [],
   "source": [
    "def run_homework():\n",
    "    \"\"\"Запуск, в т.ч. в тетрадке.\"\"\"\n",
    "\n",
    "    # Проверка на выполнение в Jupyter и путь\n",
    "    base_dir = os.getcwd() if 'ipykernel' in sys.modules else os.path.dirname(os.path.abspath(__file__))\n",
    "\n",
    "    purchases_path = os.path.join(base_dir, 'purchase_log.txt')\n",
    "    visits_path = os.path.join(base_dir, 'visit_log.csv')\n",
    "    output_path = os.path.join(base_dir, 'funnel.csv')\n",
    "\n",
    "    process_files(purchases_path, visits_path, output_path)\n",
    "\n",
    "    # Выводим первые 3 строки из выходного файла\n",
    "    with open(output_path, \"r\", encoding=\"utf-8\") as f:\n",
    "        for _ in range(3):\n",
    "            print(f.readline().strip())"
   ]
  },
  {
   "cell_type": "code",
   "execution_count": 6,
   "id": "c392393d",
   "metadata": {},
   "outputs": [
    {
     "name": "stdout",
     "output_type": "stream",
     "text": [
      "user_id,source,category\n",
      "1840e0b9d4,other,Продукты\n",
      "4e4f90fcfb,context,Электроника\n"
     ]
    }
   ],
   "source": [
    "if __name__ == \"__main__\":\n",
    "    run_homework()"
   ]
  }
 ],
 "metadata": {
  "jupytext": {
   "cell_metadata_filter": "-all",
   "main_language": "python",
   "notebook_metadata_filter": "-all"
  },
  "kernelspec": {
   "display_name": "Python 3 (ipykernel)",
   "language": "python",
   "name": "python3"
  },
  "language_info": {
   "codemirror_mode": {
    "name": "ipython",
    "version": 3
   },
   "file_extension": ".py",
   "mimetype": "text/x-python",
   "name": "python",
   "nbconvert_exporter": "python",
   "pygments_lexer": "ipython3",
   "version": "3.9.16"
  }
 },
 "nbformat": 4,
 "nbformat_minor": 5
}
