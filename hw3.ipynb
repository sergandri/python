{
 "cells": [
  {
   "cell_type": "code",
   "execution_count": null,
   "id": "2f85c539",
   "metadata": {},
   "outputs": [],
   "source": [
    "from datetime import datetime\n",
    "from dateutil import parser"
   ]
  },
  {
   "cell_type": "code",
   "execution_count": null,
   "id": "f565509d",
   "metadata": {},
   "outputs": [],
   "source": [
    "def parse_date(date_str: str, newspaper: str) -> datetime:\n",
    "    \"\"\"Переводит строковое представление даты в объект datetime.\n",
    "\n",
    "    args:\n",
    "      date_str (str): строковое представление даты;\n",
    "      newspaper (str): газета.\n",
    "\n",
    "    returns:\n",
    "      datetime: объект datetime.\n",
    "    \"\"\"\n",
    "\n",
    "    # Заданные вручную форматы\n",
    "    formats = {\n",
    "        \"The Moscow Times\": \"%A, %B %d, %Y\",\n",
    "        \"The Guardian\": \"%A, %d.%m.%y\",\n",
    "        \"Daily News\": \"%A, %d %B %Y\"\n",
    "    }\n",
    "\n",
    "    try:\n",
    "        return datetime.strptime(date_str, formats[newspaper])\n",
    "    except ValueError:\n",
    "        return parser.parse(date_str, dayfirst=True)"
   ]
  },
  {
   "cell_type": "code",
   "execution_count": null,
   "id": "71437f74",
   "metadata": {},
   "outputs": [],
   "source": [
    "def main():\n",
    "    \"\"\"Основная функция.\"\"\"\n",
    "\n",
    "    data_input = \"\"\"The Moscow Times - Wednesday, October 2, 2002\n",
    "The Guardian - Friday, 11.10.13\n",
    "Daily News - Thursday, 18 August 1977\n",
    "                 \"\"\"\n",
    "\n",
    "    # входные данные в формате задания\n",
    "    for line in data_input.split(\"\\n\"):\n",
    "        if \" - \" in line:\n",
    "            newspaper, date_str = line.split(\" - \")\n",
    "            parsed_date = parse_date(date_str, newspaper)\n",
    "            print(parsed_date)"
   ]
  },
  {
   "cell_type": "code",
   "execution_count": null,
   "id": "9eeae5ae",
   "metadata": {},
   "outputs": [],
   "source": [
    "if __name__ == \"__main__\":\n",
    "    main()"
   ]
  }
 ],
 "metadata": {
  "jupytext": {
   "cell_metadata_filter": "-all",
   "main_language": "python",
   "notebook_metadata_filter": "-all"
  }
 },
 "nbformat": 4,
 "nbformat_minor": 5
}
