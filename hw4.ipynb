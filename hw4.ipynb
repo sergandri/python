{
 "cells": [
  {
   "cell_type": "code",
   "execution_count": 1,
   "id": "8c31b3f5",
   "metadata": {},
   "outputs": [],
   "source": [
    "from datetime import datetime, timedelta"
   ]
  },
  {
   "cell_type": "code",
   "execution_count": 2,
   "id": "c015dc8c",
   "metadata": {},
   "outputs": [],
   "source": [
    "def date_range(start_date: str, end_date: str) -> list[str]:\n",
    "    \"\"\"Возвращает список дат между start_date и end_date.\n",
    "\n",
    "    args:\n",
    "      start_date (str): начальная дата;\n",
    "      end_date (str): конечная дата.\n",
    "\n",
    "    returns:\n",
    "      list[str]: Список дат или пустой список при ошибке.\n",
    "    \"\"\"\n",
    "\n",
    "    try:\n",
    "        start = datetime.strptime(start_date, '%Y-%m-%d').date()\n",
    "        end = datetime.strptime(end_date, '%Y-%m-%d').date()\n",
    "\n",
    "        if start > end:\n",
    "            return []\n",
    "\n",
    "        return [(start + timedelta(days=i)).strftime('%Y-%m-%d') for i in range((end - start).days + 1)]\n",
    "\n",
    "    except ValueError:\n",
    "        return []"
   ]
  },
  {
   "cell_type": "code",
   "execution_count": 3,
   "id": "d4b5608a",
   "metadata": {},
   "outputs": [
    {
     "name": "stdout",
     "output_type": "stream",
     "text": [
      "['2022-01-01', '2022-01-02', '2022-01-03']\n"
     ]
    }
   ],
   "source": [
    "if __name__ == \"__main__\":\n",
    "    print(date_range('2022-01-01', '2022-01-03'))"
   ]
  }
 ],
 "metadata": {
  "jupytext": {
   "cell_metadata_filter": "-all",
   "main_language": "python",
   "notebook_metadata_filter": "-all"
  },
  "kernelspec": {
   "display_name": "Python 3 (ipykernel)",
   "language": "python",
   "name": "python3"
  },
  "language_info": {
   "codemirror_mode": {
    "name": "ipython",
    "version": 3
   },
   "file_extension": ".py",
   "mimetype": "text/x-python",
   "name": "python",
   "nbconvert_exporter": "python",
   "pygments_lexer": "ipython3",
   "version": "3.9.16"
  }
 },
 "nbformat": 4,
 "nbformat_minor": 5
}
