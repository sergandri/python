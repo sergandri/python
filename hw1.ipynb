{
 "cells": [
  {
   "cell_type": "code",
   "execution_count": 1,
   "id": "38cb9695",
   "metadata": {},
   "outputs": [],
   "source": [
    "import os\n",
    "import json\n",
    "import sys\n",
    "from typing import Dict\n",
    "from pydantic import BaseModel, ValidationError\n",
    "from itertools import islice"
   ]
  },
  {
   "cell_type": "code",
   "execution_count": 2,
   "id": "bc936fe7",
   "metadata": {},
   "outputs": [],
   "source": [
    "# Модель данных для покупок\n",
    "class UserData(BaseModel):\n",
    "    user_id: str\n",
    "    category: str"
   ]
  },
  {
   "cell_type": "code",
   "execution_count": 3,
   "id": "fd2d9736",
   "metadata": {},
   "outputs": [],
   "source": [
    "def read_file_to_dict(file_path: str) -> Dict[str, str]:\n",
    "    \"\"\"\n",
    "    Чтение файла и преобразование его содержимого в словарь.\n",
    "    Args:\n",
    "        file_path: путь к файлу\n",
    "    Returns:\n",
    "        dict\n",
    "\n",
    "    \"\"\"\n",
    "\n",
    "    # Словарь purchases для хранения результатов\n",
    "    purchases = {}\n",
    "\n",
    "    # Чтение файла с utf-8\n",
    "    with open(file_path, \"r\", encoding=\"utf-8\") as file:\n",
    "        next(file)\n",
    "        for line_num, line in enumerate(file, 2):\n",
    "            try:\n",
    "                # Преобразование строки в объект модели данных\n",
    "                data = UserData(**json.loads(line.strip()))\n",
    "                purchases[data.user_id] = data.category\n",
    "            except ValidationError as e:\n",
    "                print(f\"Error on line {line_num}: {e}\")\n",
    "            except json.JSONDecodeError:\n",
    "                print(f\"Error decoding JSON on line {line_num}.\")\n",
    "\n",
    "    return purchases"
   ]
  },
  {
   "cell_type": "code",
   "execution_count": 4,
   "id": "4777bb60",
   "metadata": {},
   "outputs": [],
   "source": [
    "def first_two_items(d: Dict) -> Dict:\n",
    "    \"\"\"2 строки, как в задании.\"\"\"\n",
    "    return dict(islice(d.items(), 2))"
   ]
  },
  {
   "cell_type": "code",
   "execution_count": 5,
   "id": "f9c48a91",
   "metadata": {},
   "outputs": [],
   "source": [
    "def run_homework():\n",
    "    \"\"\"Запуск, в т.ч. в тетрадке.\"\"\"\n",
    "\n",
    "    # Проверка на выполнение в Jupyter и путь\n",
    "    is_jupyter = 'ipykernel' in sys.modules\n",
    "    if is_jupyter:\n",
    "        DEFAULT_FILE_PATH = os.path.join(os.getcwd(), 'purchase_log.txt')\n",
    "    else:\n",
    "        DEFAULT_FILE_PATH = os.path.join(os.path.dirname(os.path.abspath(__file__)), 'purchase_log.txt')\n",
    "    try:\n",
    "        purchases = read_file_to_dict(DEFAULT_FILE_PATH)\n",
    "        if not purchases:\n",
    "            print(\"no valid data after header.\")\n",
    "        else:\n",
    "            output_purchases = first_two_items(purchases)\n",
    "            for key, value in output_purchases.items():\n",
    "                print(f\"{key} '{value}'\")  # Кавычки, как в задании\n",
    "    except FileNotFoundError:\n",
    "        print(f\"File '{DEFAULT_FILE_PATH}' not found.\")"
   ]
  },
  {
   "cell_type": "code",
   "execution_count": 6,
   "id": "2d4fad7a",
   "metadata": {},
   "outputs": [
    {
     "name": "stdout",
     "output_type": "stream",
     "text": [
      "1840e0b9d4 'Продукты'\n",
      "4e4f90fcfb 'Электроника'\n"
     ]
    }
   ],
   "source": [
    "if __name__ == \"__main__\":\n",
    "    run_homework()"
   ]
  }
 ],
 "metadata": {
  "jupytext": {
   "cell_metadata_filter": "-all",
   "main_language": "python",
   "notebook_metadata_filter": "-all"
  },
  "kernelspec": {
   "display_name": "Python 3 (ipykernel)",
   "language": "python",
   "name": "python3"
  },
  "language_info": {
   "codemirror_mode": {
    "name": "ipython",
    "version": 3
   },
   "file_extension": ".py",
   "mimetype": "text/x-python",
   "name": "python",
   "nbconvert_exporter": "python",
   "pygments_lexer": "ipython3",
   "version": "3.9.16"
  }
 },
 "nbformat": 4,
 "nbformat_minor": 5
}
