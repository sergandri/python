{
 "cells": [
  {
   "cell_type": "code",
   "execution_count": null,
   "id": "2a568774",
   "metadata": {},
   "outputs": [],
   "source": [
    "import sys\n",
    "import json\n",
    "import os\n",
    "import chardet"
   ]
  },
  {
   "cell_type": "code",
   "execution_count": null,
   "id": "69e84fa6",
   "metadata": {},
   "outputs": [],
   "source": [
    "from typing import Dict\n",
    "from pydantic import BaseModel, ValidationError\n",
    "from itertools import islice"
   ]
  },
  {
   "cell_type": "code",
   "execution_count": null,
   "id": "30b79c03",
   "metadata": {},
   "outputs": [],
   "source": [
    "class UserData(BaseModel):\n",
    "    user_id: str\n",
    "    category: str"
   ]
  },
  {
   "cell_type": "code",
   "execution_count": null,
   "id": "e5bea530",
   "metadata": {},
   "outputs": [],
   "source": [
    "def detect_file_encoding(file_path: str) -> str:\n",
    "    \"\"\"Detect encoding.\"\"\"\n",
    "    with open(file_path, 'rb') as file:\n",
    "        result = chardet.detect(file.read())\n",
    "    return result['encoding']"
   ]
  },
  {
   "cell_type": "code",
   "execution_count": null,
   "id": "3248fd24",
   "metadata": {},
   "outputs": [],
   "source": [
    "def read_file_to_dict(file_path: str) -> Dict[str, str]:\n",
    "    \"\"\"\n",
    "    Read txt, convert to dict, print two rows.\n",
    "\n",
    "    Task:\n",
    "        Задание 1\n",
    "        Переведите содержимое файла purchase_log.txt\n",
    "        в словарь purchases вида:\n",
    "        {‘1840e0b9d4’: ‘Продукты’, …}\n",
    "\n",
    "        Пример работы программы при выводе первых\n",
    "        двух элементов словаря purchases:\n",
    "        1840e0b9d4 ‘Продукты‘\n",
    "        4e4f90fcfb  ‘Электроника‘\n",
    "\n",
    "\n",
    "    Args:\n",
    "        file_path: path to the file.\n",
    "\n",
    "    Returns:\n",
    "        A dictionary with keys and values from the file.\n",
    "    \"\"\"\n",
    "    output_dict = {}\n",
    "\n",
    "    encoding = detect_file_encoding(file_path)\n",
    "\n",
    "    with open(file_path, \"r\", encoding=encoding) as file:\n",
    "        # skip header\n",
    "        next(file)\n",
    "\n",
    "        for line_num, line in enumerate(file, 2):\n",
    "            try:\n",
    "                data = UserData(**json.loads(line.strip()))\n",
    "                output_dict[data.user_id] = data.category\n",
    "            except ValidationError as e:\n",
    "                print(f\"Error on line {line_num}: {e}\")\n",
    "            except json.JSONDecodeError:\n",
    "                print(f\"Error decoding JSON on line {line_num}.\")\n",
    "\n",
    "    return output_dict"
   ]
  },
  {
   "cell_type": "code",
   "execution_count": null,
   "id": "a825ffa6",
   "metadata": {},
   "outputs": [],
   "source": [
    "def first_two_items(d: Dict) -> Dict:\n",
    "    \"\"\"get two rows.\"\"\"\n",
    "    return dict(islice(d.items(), 2))"
   ]
  },
  {
   "cell_type": "code",
   "execution_count": null,
   "id": "a9916035",
   "metadata": {},
   "outputs": [],
   "source": [
    "def run_homework():\n",
    "    is_jupyter = 'ipykernel' in sys.modules\n",
    "    if is_jupyter:\n",
    "        DEFAULT_FILE_PATH = os.path.join(os.getcwd(), 'purchase_log.txt')\n",
    "    else:\n",
    "        DEFAULT_FILE_PATH = os.path.join(os.path.dirname(os.path.abspath(__file__)), 'purchase_log.txt')\n",
    "    try:\n",
    "        purchases = read_file_to_dict(DEFAULT_FILE_PATH)\n",
    "        if not purchases:\n",
    "            print(\"The file does not contain valid data entries after the header.\")\n",
    "        else:\n",
    "            output_purchases = first_two_items(purchases)\n",
    "            for key, value in output_purchases.items():\n",
    "                print(f\"{key} '{value}'\")\n",
    "    except FileNotFoundError:\n",
    "        print(f\"File '{DEFAULT_FILE_PATH}' not found.\")"
   ]
  },
  {
   "cell_type": "code",
   "execution_count": null,
   "id": "6fc67183",
   "metadata": {},
   "outputs": [],
   "source": [
    "if __name__ == \"__main__\":\n",
    "    run_homework()"
   ]
  }
 ],
 "metadata": {
  "jupytext": {
   "cell_metadata_filter": "-all",
   "main_language": "python",
   "notebook_metadata_filter": "-all"
  }
 },
 "nbformat": 4,
 "nbformat_minor": 5
}
