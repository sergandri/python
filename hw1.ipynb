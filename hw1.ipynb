{
 "cells": [
  {
   "cell_type": "code",
   "execution_count": null,
   "id": "a989b856",
   "metadata": {},
   "outputs": [],
   "source": [
    "import sys\n",
    "import json\n",
    "import os\n",
    "import chardet"
   ]
  },
  {
   "cell_type": "code",
   "execution_count": null,
   "id": "8fb8d604",
   "metadata": {},
   "outputs": [],
   "source": [
    "from typing import Dict\n",
    "from pydantic import BaseModel, ValidationError\n",
    "from itertools import islice"
   ]
  },
  {
   "cell_type": "code",
   "execution_count": null,
   "id": "ebfb1d15",
   "metadata": {},
   "outputs": [],
   "source": [
    "class UserData(BaseModel):\n",
    "    user_id: str\n",
    "    category: str"
   ]
  },
  {
   "cell_type": "code",
   "execution_count": null,
   "id": "12feb52f",
   "metadata": {},
   "outputs": [],
   "source": [
    "def detect_file_encoding(file_path: str) -> str:\n",
    "    \"\"\"Detect encoding.\"\"\"\n",
    "    with open(file_path, 'rb') as file:\n",
    "        result = chardet.detect(file.read())\n",
    "    return result['encoding']"
   ]
  },
  {
   "cell_type": "code",
   "execution_count": null,
   "id": "98626c53",
   "metadata": {},
   "outputs": [],
   "source": [
    "def read_file_to_dict(file_path: str) -> Dict[str, str]:\n",
    "    \"\"\"\n",
    "    Read txt, convert to dict, print two rows.\n",
    "\n",
    "    Task:\n",
    "        Задание 1\n",
    "        Переведите содержимое файла purchase_log.txt\n",
    "        в словарь purchases вида:\n",
    "        {‘1840e0b9d4’: ‘Продукты’, …}\n",
    "\n",
    "        Пример работы программы при выводе первых\n",
    "        двух элементов словаря purchases:\n",
    "        1840e0b9d4 ‘Продукты‘\n",
    "        4e4f90fcfb  ‘Электроника‘\n",
    "\n",
    "\n",
    "    Args:\n",
    "        file_path: path to the file.\n",
    "\n",
    "    Returns:\n",
    "        A dictionary with keys and values from the file.\n",
    "    \"\"\"\n",
    "    output_dict = {}\n",
    "\n",
    "    encoding = detect_file_encoding(file_path)\n",
    "\n",
    "    with open(file_path, \"r\", encoding=encoding) as file:\n",
    "        # skip header\n",
    "        next(file)\n",
    "\n",
    "        for line_num, line in enumerate(file, 2):\n",
    "            try:\n",
    "                data = UserData(**json.loads(line.strip()))\n",
    "                output_dict[data.user_id] = data.category\n",
    "            except ValidationError as e:\n",
    "                print(f\"Error on line {line_num}: {e}\")\n",
    "            except json.JSONDecodeError:\n",
    "                print(f\"Error decoding JSON on line {line_num}.\")\n",
    "\n",
    "    return output_dict"
   ]
  },
  {
   "cell_type": "code",
   "execution_count": null,
   "id": "c1a0738e",
   "metadata": {},
   "outputs": [],
   "source": [
    "def first_two_items(d: Dict) -> Dict:\n",
    "    \"\"\"get two rows.\"\"\"\n",
    "    return dict(islice(d.items(), 2))"
   ]
  },
  {
   "cell_type": "code",
   "execution_count": null,
   "id": "72f3ae32",
   "metadata": {},
   "outputs": [],
   "source": [
    "if __name__ == \"__main__\":\n",
    "    # file dir and code running inside JN or not\n",
    "    is_jupyter = 'ipykernel' in sys.modules\n",
    "\n",
    "    if is_jupyter:\n",
    "        DEFAULT_FILE_PATH = os.path.join(os.getcwd(), 'purchase_log.txt')\n",
    "    else:\n",
    "        DEFAULT_FILE_PATH = os.path.join(os.path.dirname(os.path.abspath(__file__)), 'purchase_log.txt')\n",
    "\n",
    "    try:\n",
    "        data_dict = read_file_to_dict(DEFAULT_FILE_PATH)\n",
    "        if not data_dict:\n",
    "            print(\"The file does not contain valid data entries after the header.\")\n",
    "        else:\n",
    "            output = first_two_items(data_dict)\n",
    "            for key, value in output.items():\n",
    "                print(f\"{key} '{value}'\")  # ''\n",
    "    except FileNotFoundError:\n",
    "        print(f\"File '{DEFAULT_FILE_PATH}' not found.\")"
   ]
  }
 ],
 "metadata": {
  "jupytext": {
   "cell_metadata_filter": "-all",
   "main_language": "python",
   "notebook_metadata_filter": "-all"
  }
 },
 "nbformat": 4,
 "nbformat_minor": 5
}
