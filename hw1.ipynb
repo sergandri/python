{
 "cells": [
  {
   "cell_type": "code",
   "execution_count": null,
   "id": "e3a70344",
   "metadata": {},
   "outputs": [],
   "source": [
    "import sys\n",
    "import json\n",
    "import os\n",
    "from typing import Dict\n",
    "from pydantic import BaseModel, ValidationError\n",
    "from itertools import islice"
   ]
  },
  {
   "cell_type": "code",
   "execution_count": null,
   "id": "05be94ee",
   "metadata": {},
   "outputs": [],
   "source": [
    "# Модель данных для покупок\n",
    "class UserData(BaseModel):\n",
    "    user_id: str\n",
    "    category: str"
   ]
  },
  {
   "cell_type": "code",
   "execution_count": null,
   "id": "c7868f47",
   "metadata": {},
   "outputs": [],
   "source": [
    "def read_file_to_dict(file_path: str) -> Dict[str, str]:\n",
    "    \"\"\"\n",
    "    Чтение файла и преобразование его содержимого в словарь.\n",
    "    Args:\n",
    "        file_path: путь к файлу\n",
    "    Returns:\n",
    "        dict with keys and values from the file.\n",
    "\n",
    "    \"\"\"\n",
    "\n",
    "    # Словарь для хранения результатов\n",
    "    output_dict = {}\n",
    "\n",
    "    # Чтение файла с utf-8\n",
    "    with open(file_path, \"r\", encoding=\"utf-8\") as file:\n",
    "        # Пропуск заголовка\n",
    "        next(file)\n",
    "\n",
    "        for line_num, line in enumerate(file, 2):\n",
    "            try:\n",
    "                # Преобразование строки в объект модели данных\n",
    "                data = UserData(**json.loads(line.strip()))\n",
    "                output_dict[data.user_id] = data.category\n",
    "            except ValidationError as e:\n",
    "                print(f\"Error on line {line_num}: {e}\")\n",
    "            except json.JSONDecodeError:\n",
    "                print(f\"Error decoding JSON on line {line_num}.\")\n",
    "\n",
    "    return output_dict"
   ]
  },
  {
   "cell_type": "code",
   "execution_count": null,
   "id": "9b98e0c4",
   "metadata": {},
   "outputs": [],
   "source": [
    "def first_two_items(d: Dict) -> Dict:\n",
    "    \"\"\"2 строки, как в задании.\"\"\"\n",
    "    return dict(islice(d.items(), 2))"
   ]
  },
  {
   "cell_type": "code",
   "execution_count": null,
   "id": "e6761c75",
   "metadata": {},
   "outputs": [],
   "source": [
    "def run_homework():\n",
    "    \"\"\"Запуск, в т.ч. в тетрадке.\"\"\"\n",
    "\n",
    "    # Проверка на выполнение в Jupyter\n",
    "    is_jupyter = 'ipykernel' in sys.modules\n",
    "    if is_jupyter:\n",
    "        DEFAULT_FILE_PATH = os.path.join(os.getcwd(), 'purchase_log.txt')\n",
    "    else:\n",
    "        DEFAULT_FILE_PATH = os.path.join(os.path.dirname(os.path.abspath(__file__)), 'purchase_log.txt')\n",
    "    try:\n",
    "        purchases = read_file_to_dict(DEFAULT_FILE_PATH)\n",
    "        if not purchases:\n",
    "            print(\"The file does not contain valid data entries after the header.\")\n",
    "        else:\n",
    "            output_purchases = first_two_items(purchases)\n",
    "            for key, value in output_purchases.items():\n",
    "                print(f\"{key} '{value}'\")  # Кавычки, как в задании\n",
    "    except FileNotFoundError:\n",
    "        print(f\"File '{DEFAULT_FILE_PATH}' not found.\")"
   ]
  },
  {
   "cell_type": "code",
   "execution_count": null,
   "id": "432edab2",
   "metadata": {},
   "outputs": [],
   "source": [
    "if __name__ == \"__main__\":\n",
    "    run_homework()"
   ]
  }
 ],
 "metadata": {
  "jupytext": {
   "cell_metadata_filter": "-all",
   "main_language": "python",
   "notebook_metadata_filter": "-all"
  }
 },
 "nbformat": 4,
 "nbformat_minor": 5
}
