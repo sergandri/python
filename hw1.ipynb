{
 "cells": [
  {
   "cell_type": "code",
   "execution_count": 1,
   "id": "38cb9695",
   "metadata": {},
   "outputs": [],
   "source": [
    "import os\n",
    "import json\n",
    "import sys\n",
    "from typing import Dict\n",
    "from pydantic import BaseModel, ValidationError\n",
    "from itertools import islice"
   ]
  },
  {
   "cell_type": "code",
   "execution_count": 2,
   "id": "bc936fe7",
   "metadata": {},
   "outputs": [],
   "source": [
    "# Модель данных для покупок\n",
    "class UserData(BaseModel):\n",
    "    user_id: str\n",
    "    category: str"
   ]
  },
  {
   "cell_type": "code",
   "execution_count": 3,
   "id": "fd2d9736",
   "metadata": {},
   "outputs": [],
   "source": [
    "def read_file_to_dict(file_path: str) -> Dict[str, str]:\n",
    "    \"\"\"\n",
    "    Чтение файла и преобразование его содержимого в словарь.\n",
    "    Args:\n",
    "        file_path: путь к файлу\n",
    "    Returns:\n",
    "        purchases: словарь\n",
    "    \"\"\"\n",
    "\n",
    "    # Словарь purchases для хранения результатов\n",
    "    purchases = {}\n",
    "\n",
    "    # Чтение файла с utf-8\n",
    "    with open(file_path, \"r\", encoding=\"utf-8\") as file:\n",
    "        next(file)\n",
    "        for line_num, line in enumerate(file, 2):\n",
    "            try:\n",
    "                # Преобразование строки в объект модели данных\n",
    "                data = UserData(**json.loads(line.strip()))\n",
    "                purchases[data.user_id] = data.category\n",
    "            except ValidationError as e:\n",
    "                print(f\"Error on line {line_num}: {e}\")\n",
    "            except json.JSONDecodeError:\n",
    "                print(f\"Error decoding JSON on line {line_num}.\")\n",
    "\n",
    "    return purchases"
   ]
  },
  {
   "cell_type": "code",
   "execution_count": 4,
   "id": "4777bb60",
   "metadata": {},
   "outputs": [],
   "source": [
    "def first_two_items(d: Dict) -> Dict:\n",
    "    \"\"\"2 строки, как в задании.\"\"\"\n",
    "    return dict(islice(d.items(), 2))"
   ]
  },
  {
   "cell_type": "code",
   "execution_count": 5,
   "id": "f9c48a91",
   "metadata": {},
   "outputs": [],
   "source": [
    "def run_homework():\n",
    "    \"\"\"Запуск, в т.ч. в тетрадке.\"\"\"\n",
    "\n",
    "    # Проверка на выполнение в Jupyter и путь\n",
    "    base_dir = os.getcwd() if 'ipykernel' in sys.modules else os.path.dirname(os.path.abspath(__file__))\n",
    "    DEFAULT_FILE_PATH = os.path.join(base_dir, 'purchase_log.txt')\n",
    "\n",
    "    try:\n",
    "        purchases = read_file_to_dict(DEFAULT_FILE_PATH)\n",
    "        output_purchases = first_two_items(purchases)\n",
    "        \n",
    "        for key, value in output_purchases.items():\n",
    "            print(f\"{key} '{value}'\")  # Кавычки, как в задании\n",
    "\n",
    "    except FileNotFoundError:\n",
    "        print(f\"File '{DEFAULT_FILE_PATH}' not found.\")\n",
    "\n"
   ]
  },
  {
   "cell_type": "code",
   "execution_count": 6,
   "id": "2d4fad7a",
   "metadata": {},
   "outputs": [
    {
     "ename": "PermissionError",
     "evalue": "[Errno 13] Permission denied: 'C:\\\\Users\\\\serga\\\\Downloads'",
     "output_type": "error",
     "traceback": [
      "\u001b[1;31m---------------------------------------------------------------------------\u001b[0m",
      "\u001b[1;31mPermissionError\u001b[0m                           Traceback (most recent call last)",
      "Cell \u001b[1;32mIn[6], line 2\u001b[0m\n\u001b[0;32m      1\u001b[0m \u001b[38;5;28;01mif\u001b[39;00m \u001b[38;5;18m__name__\u001b[39m \u001b[38;5;241m==\u001b[39m \u001b[38;5;124m\"\u001b[39m\u001b[38;5;124m__main__\u001b[39m\u001b[38;5;124m\"\u001b[39m:\n\u001b[1;32m----> 2\u001b[0m     \u001b[43mrun_homework\u001b[49m\u001b[43m(\u001b[49m\u001b[43m)\u001b[49m\n",
      "Cell \u001b[1;32mIn[5], line 8\u001b[0m, in \u001b[0;36mrun_homework\u001b[1;34m()\u001b[0m\n\u001b[0;32m      5\u001b[0m base_dir \u001b[38;5;241m=\u001b[39m os\u001b[38;5;241m.\u001b[39mgetcwd() \u001b[38;5;28;01mif\u001b[39;00m \u001b[38;5;124m'\u001b[39m\u001b[38;5;124mipykernel\u001b[39m\u001b[38;5;124m'\u001b[39m \u001b[38;5;129;01min\u001b[39;00m sys\u001b[38;5;241m.\u001b[39mmodules \u001b[38;5;28;01melse\u001b[39;00m os\u001b[38;5;241m.\u001b[39mpath\u001b[38;5;241m.\u001b[39mdirname(os\u001b[38;5;241m.\u001b[39mpath\u001b[38;5;241m.\u001b[39mabspath(\u001b[38;5;18m__file__\u001b[39m))\n\u001b[0;32m      7\u001b[0m \u001b[38;5;28;01mtry\u001b[39;00m:\n\u001b[1;32m----> 8\u001b[0m     purchases \u001b[38;5;241m=\u001b[39m \u001b[43mread_file_to_dict\u001b[49m\u001b[43m(\u001b[49m\u001b[43mbase_dir\u001b[49m\u001b[43m)\u001b[49m\n\u001b[0;32m      9\u001b[0m     \u001b[38;5;28;01mif\u001b[39;00m \u001b[38;5;129;01mnot\u001b[39;00m purchases:\n\u001b[0;32m     10\u001b[0m         \u001b[38;5;28mprint\u001b[39m(\u001b[38;5;124m\"\u001b[39m\u001b[38;5;124mno valid data\u001b[39m\u001b[38;5;124m\"\u001b[39m)\n",
      "Cell \u001b[1;32mIn[3], line 14\u001b[0m, in \u001b[0;36mread_file_to_dict\u001b[1;34m(file_path)\u001b[0m\n\u001b[0;32m     11\u001b[0m purchases \u001b[38;5;241m=\u001b[39m {}\n\u001b[0;32m     13\u001b[0m \u001b[38;5;66;03m# Чтение файла с utf-8\u001b[39;00m\n\u001b[1;32m---> 14\u001b[0m \u001b[38;5;28;01mwith\u001b[39;00m \u001b[38;5;28;43mopen\u001b[39;49m\u001b[43m(\u001b[49m\u001b[43mfile_path\u001b[49m\u001b[43m,\u001b[49m\u001b[43m \u001b[49m\u001b[38;5;124;43m\"\u001b[39;49m\u001b[38;5;124;43mr\u001b[39;49m\u001b[38;5;124;43m\"\u001b[39;49m\u001b[43m,\u001b[49m\u001b[43m \u001b[49m\u001b[43mencoding\u001b[49m\u001b[38;5;241;43m=\u001b[39;49m\u001b[38;5;124;43m\"\u001b[39;49m\u001b[38;5;124;43mutf-8\u001b[39;49m\u001b[38;5;124;43m\"\u001b[39;49m\u001b[43m)\u001b[49m \u001b[38;5;28;01mas\u001b[39;00m file:\n\u001b[0;32m     15\u001b[0m     \u001b[38;5;28mnext\u001b[39m(file)\n\u001b[0;32m     16\u001b[0m     \u001b[38;5;28;01mfor\u001b[39;00m line_num, line \u001b[38;5;129;01min\u001b[39;00m \u001b[38;5;28menumerate\u001b[39m(file, \u001b[38;5;241m2\u001b[39m):\n",
      "File \u001b[1;32m~\\anaconda3\\lib\\site-packages\\IPython\\core\\interactiveshell.py:282\u001b[0m, in \u001b[0;36m_modified_open\u001b[1;34m(file, *args, **kwargs)\u001b[0m\n\u001b[0;32m    275\u001b[0m \u001b[38;5;28;01mif\u001b[39;00m file \u001b[38;5;129;01min\u001b[39;00m {\u001b[38;5;241m0\u001b[39m, \u001b[38;5;241m1\u001b[39m, \u001b[38;5;241m2\u001b[39m}:\n\u001b[0;32m    276\u001b[0m     \u001b[38;5;28;01mraise\u001b[39;00m \u001b[38;5;167;01mValueError\u001b[39;00m(\n\u001b[0;32m    277\u001b[0m         \u001b[38;5;124mf\u001b[39m\u001b[38;5;124m\"\u001b[39m\u001b[38;5;124mIPython won\u001b[39m\u001b[38;5;124m'\u001b[39m\u001b[38;5;124mt let you open fd=\u001b[39m\u001b[38;5;132;01m{\u001b[39;00mfile\u001b[38;5;132;01m}\u001b[39;00m\u001b[38;5;124m by default \u001b[39m\u001b[38;5;124m\"\u001b[39m\n\u001b[0;32m    278\u001b[0m         \u001b[38;5;124m\"\u001b[39m\u001b[38;5;124mas it is likely to crash IPython. If you know what you are doing, \u001b[39m\u001b[38;5;124m\"\u001b[39m\n\u001b[0;32m    279\u001b[0m         \u001b[38;5;124m\"\u001b[39m\u001b[38;5;124myou can use builtins\u001b[39m\u001b[38;5;124m'\u001b[39m\u001b[38;5;124m open.\u001b[39m\u001b[38;5;124m\"\u001b[39m\n\u001b[0;32m    280\u001b[0m     )\n\u001b[1;32m--> 282\u001b[0m \u001b[38;5;28;01mreturn\u001b[39;00m io_open(file, \u001b[38;5;241m*\u001b[39margs, \u001b[38;5;241m*\u001b[39m\u001b[38;5;241m*\u001b[39mkwargs)\n",
      "\u001b[1;31mPermissionError\u001b[0m: [Errno 13] Permission denied: 'C:\\\\Users\\\\serga\\\\Downloads'"
     ]
    }
   ],
   "source": [
    "if __name__ == \"__main__\":\n",
    "    run_homework()"
   ]
  }
 ],
 "metadata": {
  "jupytext": {
   "cell_metadata_filter": "-all",
   "main_language": "python",
   "notebook_metadata_filter": "-all"
  },
  "kernelspec": {
   "display_name": "Python 3 (ipykernel)",
   "language": "python",
   "name": "python3"
  },
  "language_info": {
   "codemirror_mode": {
    "name": "ipython",
    "version": 3
   },
   "file_extension": ".py",
   "mimetype": "text/x-python",
   "name": "python",
   "nbconvert_exporter": "python",
   "pygments_lexer": "ipython3",
   "version": "3.9.16"
  }
 },
 "nbformat": 4,
 "nbformat_minor": 5
}
