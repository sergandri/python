{
 "cells": [
  {
   "cell_type": "code",
   "execution_count": 1,
   "id": "d8f8351c",
   "metadata": {},
   "outputs": [],
   "source": [
    "import requests"
   ]
  },
  {
   "cell_type": "code",
   "execution_count": 2,
   "id": "7657c37b",
   "metadata": {},
   "outputs": [],
   "source": [
    "class CurrencyRateChecker:\n",
    "    '''\n",
    "    Класс для проверки курсов валют с использованием данных с сайта Центрального банка Российской Федерации.\n",
    "    '''\n",
    "    \n",
    "    def __init__(self, url=\"https://www.cbr-xml-daily.ru/daily_json.js\"):\n",
    "        '''Инициализирует объект класса с заданным URL для получения данных.'''\n",
    "        self.url = url\n",
    "\n",
    "    def get_data(self):\n",
    "        '''Отправляет GET-запрос к API и возвращает полученные данные в формате JSON.'''\n",
    "        try:\n",
    "            response = requests.get(self.url)\n",
    "            response.raise_for_status()  \n",
    "            return response.json()\n",
    "        except requests.RequestException as e:\n",
    "            raise SystemExit(e)\n",
    "\n",
    "    def find_max_rate_currency(self):\n",
    "        '''Ищет валюту с максимальным курсом, исключая СДР.'''\n",
    "        data = self.get_data()\n",
    "        if 'Valute' not in data:\n",
    "            return \"Данные о курсах валют не найдены.\"\n",
    "\n",
    "        max_rate = 0\n",
    "        currency_name = ''\n",
    "        for code, currency_info in data['Valute'].items():\n",
    "            if currency_info['Name'] == \"СДР (специальные права заимствования)\":\n",
    "                continue\n",
    "\n",
    "            if (rate := currency_info['Value'] / currency_info['Nominal']) > max_rate:\n",
    "                max_rate = rate\n",
    "                currency_name = currency_info['Name']\n",
    "        return currency_name\n"
   ]
  },
  {
   "cell_type": "code",
   "execution_count": 3,
   "id": "3aca4887",
   "metadata": {},
   "outputs": [
    {
     "name": "stdout",
     "output_type": "stream",
     "text": [
      "Фунт стерлингов Соединенного королевства\n"
     ]
    }
   ],
   "source": [
    "if __name__ == \"__main__\":\n",
    "    checker = CurrencyRateChecker()\n",
    "    print(checker.find_max_rate_currency())"
   ]
  }
 ],
 "metadata": {
  "kernelspec": {
   "display_name": "Python 3 (ipykernel)",
   "language": "python",
   "name": "python3"
  },
  "language_info": {
   "codemirror_mode": {
    "name": "ipython",
    "version": 3
   },
   "file_extension": ".py",
   "mimetype": "text/x-python",
   "name": "python",
   "nbconvert_exporter": "python",
   "pygments_lexer": "ipython3",
   "version": "3.9.16"
  }
 },
 "nbformat": 4,
 "nbformat_minor": 5
}
