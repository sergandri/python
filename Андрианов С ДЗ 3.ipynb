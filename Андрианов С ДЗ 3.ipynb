{
 "cells": [
  {
   "cell_type": "code",
   "execution_count": 1,
   "id": "263909ca",
   "metadata": {},
   "outputs": [],
   "source": [
    "import pandas as pd\n",
    "import seaborn as sns"
   ]
  },
  {
   "cell_type": "code",
   "execution_count": 2,
   "id": "3e3c206a",
   "metadata": {},
   "outputs": [],
   "source": [
    "from sklearn.model_selection import train_test_split\n",
    "from sklearn.linear_model import LinearRegression\n",
    "from sklearn.metrics import mean_squared_error\n",
    "from itertools import combinations"
   ]
  },
  {
   "cell_type": "code",
   "execution_count": 3,
   "id": "d3a77ed1",
   "metadata": {},
   "outputs": [],
   "source": [
    "df = pd.read_csv('homework.csv')"
   ]
  },
  {
   "cell_type": "code",
   "execution_count": 4,
   "id": "7d11641b",
   "metadata": {},
   "outputs": [
    {
     "name": "stdout",
     "output_type": "stream",
     "text": [
      "<class 'pandas.core.frame.DataFrame'>\n",
      "RangeIndex: 333 entries, 0 to 332\n",
      "Data columns (total 15 columns):\n",
      " #   Column   Non-Null Count  Dtype  \n",
      "---  ------   --------------  -----  \n",
      " 0   ID       333 non-null    int64  \n",
      " 1   crim     333 non-null    float64\n",
      " 2   zn       333 non-null    float64\n",
      " 3   indus    333 non-null    float64\n",
      " 4   chas     333 non-null    int64  \n",
      " 5   nox      333 non-null    float64\n",
      " 6   rm       333 non-null    float64\n",
      " 7   age      333 non-null    float64\n",
      " 8   dis      333 non-null    float64\n",
      " 9   rad      333 non-null    int64  \n",
      " 10  tax      333 non-null    int64  \n",
      " 11  ptratio  333 non-null    float64\n",
      " 12  black    333 non-null    float64\n",
      " 13  lstat    333 non-null    float64\n",
      " 14  medv     333 non-null    float64\n",
      "dtypes: float64(11), int64(4)\n",
      "memory usage: 39.1 KB\n"
     ]
    },
    {
     "data": {
      "text/plain": [
       "None"
      ]
     },
     "metadata": {},
     "output_type": "display_data"
    },
    {
     "data": {
      "text/html": [
       "<div>\n",
       "<style scoped>\n",
       "    .dataframe tbody tr th:only-of-type {\n",
       "        vertical-align: middle;\n",
       "    }\n",
       "\n",
       "    .dataframe tbody tr th {\n",
       "        vertical-align: top;\n",
       "    }\n",
       "\n",
       "    .dataframe thead th {\n",
       "        text-align: right;\n",
       "    }\n",
       "</style>\n",
       "<table border=\"1\" class=\"dataframe\">\n",
       "  <thead>\n",
       "    <tr style=\"text-align: right;\">\n",
       "      <th></th>\n",
       "      <th>0</th>\n",
       "    </tr>\n",
       "  </thead>\n",
       "  <tbody>\n",
       "    <tr>\n",
       "      <th>ID</th>\n",
       "      <td>1.00000</td>\n",
       "    </tr>\n",
       "    <tr>\n",
       "      <th>crim</th>\n",
       "      <td>0.00632</td>\n",
       "    </tr>\n",
       "    <tr>\n",
       "      <th>zn</th>\n",
       "      <td>18.00000</td>\n",
       "    </tr>\n",
       "    <tr>\n",
       "      <th>indus</th>\n",
       "      <td>2.31000</td>\n",
       "    </tr>\n",
       "    <tr>\n",
       "      <th>chas</th>\n",
       "      <td>0.00000</td>\n",
       "    </tr>\n",
       "    <tr>\n",
       "      <th>nox</th>\n",
       "      <td>0.53800</td>\n",
       "    </tr>\n",
       "    <tr>\n",
       "      <th>rm</th>\n",
       "      <td>6.57500</td>\n",
       "    </tr>\n",
       "    <tr>\n",
       "      <th>age</th>\n",
       "      <td>65.20000</td>\n",
       "    </tr>\n",
       "    <tr>\n",
       "      <th>dis</th>\n",
       "      <td>4.09000</td>\n",
       "    </tr>\n",
       "    <tr>\n",
       "      <th>rad</th>\n",
       "      <td>1.00000</td>\n",
       "    </tr>\n",
       "    <tr>\n",
       "      <th>tax</th>\n",
       "      <td>296.00000</td>\n",
       "    </tr>\n",
       "    <tr>\n",
       "      <th>ptratio</th>\n",
       "      <td>15.30000</td>\n",
       "    </tr>\n",
       "    <tr>\n",
       "      <th>black</th>\n",
       "      <td>396.90000</td>\n",
       "    </tr>\n",
       "    <tr>\n",
       "      <th>lstat</th>\n",
       "      <td>4.98000</td>\n",
       "    </tr>\n",
       "    <tr>\n",
       "      <th>medv</th>\n",
       "      <td>24.00000</td>\n",
       "    </tr>\n",
       "  </tbody>\n",
       "</table>\n",
       "</div>"
      ],
      "text/plain": [
       "                 0\n",
       "ID         1.00000\n",
       "crim       0.00632\n",
       "zn        18.00000\n",
       "indus      2.31000\n",
       "chas       0.00000\n",
       "nox        0.53800\n",
       "rm         6.57500\n",
       "age       65.20000\n",
       "dis        4.09000\n",
       "rad        1.00000\n",
       "tax      296.00000\n",
       "ptratio   15.30000\n",
       "black    396.90000\n",
       "lstat      4.98000\n",
       "medv      24.00000"
      ]
     },
     "metadata": {},
     "output_type": "display_data"
    }
   ],
   "source": [
    "display(df.info())\n",
    "display(df.head(1).transpose())"
   ]
  },
  {
   "cell_type": "markdown",
   "id": "0abca244",
   "metadata": {},
   "source": [
    "Строим график по параметрам crim, medv"
   ]
  },
  {
   "cell_type": "code",
   "execution_count": 5,
   "id": "ae0cd266",
   "metadata": {},
   "outputs": [
    {
     "data": {
      "text/plain": [
       "<Axes: xlabel='crim', ylabel='medv'>"
      ]
     },
     "execution_count": 5,
     "metadata": {},
     "output_type": "execute_result"
    },
    {
     "data": {
      "image/png": "[encoded data removed]",
      "text/plain": [
       "<Figure size 640x480 with 1 Axes>"
      ]
     },
     "metadata": {},
     "output_type": "display_data"
    }
   ],
   "source": [
    "sns.scatterplot(x='crim', y='medv', data=df)"
   ]
  },
  {
   "cell_type": "markdown",
   "id": "e1928dc1",
   "metadata": {},
   "source": [
    "Строим график по параметрам rm, medv"
   ]
  },
  {
   "cell_type": "code",
   "execution_count": 6,
   "id": "d3af422a",
   "metadata": {},
   "outputs": [
    {
     "data": {
      "text/plain": [
       "<Axes: xlabel='rm', ylabel='medv'>"
      ]
     },
     "execution_count": 6,
     "metadata": {},
     "output_type": "execute_result"
    },
    {
     "data": {
      "image/png": "[encoded data removed]",
      "text/plain": [
       "<Figure size 640x480 with 1 Axes>"
      ]
     },
     "metadata": {},
     "output_type": "display_data"
    }
   ],
   "source": [
    "sns.scatterplot(x='rm', y='medv', data=df)"
   ]
  },
  {
   "cell_type": "markdown",
   "id": "cf62a579",
   "metadata": {},
   "source": [
    "- Сформируем х и y из df\n",
    "- Данные разделим на данные для обучения и проверки\n",
    "- Создадим и обучим модель LinearRegression \n",
    "- Качество оценим на тестовой выборке с использованием метрики среднеквадратичной ошибки"
   ]
  },
  {
   "cell_type": "code",
   "execution_count": 7,
   "id": "43c9fd41",
   "metadata": {},
   "outputs": [
    {
     "name": "stdout",
     "output_type": "stream",
     "text": [
      "MSE: 36.361622515889756\n"
     ]
    }
   ],
   "source": [
    "X = df[['rm']] \n",
    "y = df['medv']\n",
    "X_train, X_test, y_train, y_test = train_test_split(X, y, test_size=0.2, random_state=42)\n",
    "\n",
    "model = LinearRegression()\n",
    "model.fit(X_train, y_train)\n",
    "\n",
    "y_pred = model.predict(X_test)\n",
    "mse = mean_squared_error(y_test, y_pred)\n",
    "print('MSE:', mse)"
   ]
  },
  {
   "cell_type": "markdown",
   "id": "6b535d42",
   "metadata": {},
   "source": [
    "Так как таргет не достигнут, и нет инструментов тонкой настройки, то будем просто смотреть подходящие комбинации фичей"
   ]
  },
  {
   "cell_type": "code",
   "execution_count": 8,
   "id": "fd50cfce",
   "metadata": {},
   "outputs": [
    {
     "name": "stdout",
     "output_type": "stream",
     "text": [
      "Лучшая MSE: 19.797345349410897\n",
      "Лучшая комбинация признаков: ('crim', 'nox', 'rm', 'dis', 'ptratio', 'black', 'lstat')\n"
     ]
    }
   ],
   "source": [
    "features = df.columns.drop('medv')\n",
    "combinations_of_features = []\n",
    "for r in range(1, len(features) + 1):\n",
    "    combinations_of_features.extend(combinations(features, r))\n",
    "best_mse = float('inf')\n",
    "best_combination = None\n",
    "for combo in combinations_of_features:\n",
    "    X = df[list(combo)]\n",
    "    y = df['medv']\n",
    "    X_train, X_test, y_train, y_test = train_test_split(X, y, test_size=0.2, random_state=42)\n",
    "    model = LinearRegression()\n",
    "    model.fit(X_train, y_train)\n",
    "    \n",
    "\n",
    "    y_pred = model.predict(X_test)\n",
    "    mse = mean_squared_error(y_test, y_pred)\n",
    "    \n",
    "    #print('Текущая MSE:', mse)\n",
    "    #print('Комбинация признаков:', combo)\n",
    "    if mse < best_mse:\n",
    "        best_mse = mse\n",
    "        best_combination = combo\n",
    "\n",
    "# Вывод лучшего MSE и соответствующего набора признаков\n",
    "print('Лучшая MSE:', best_mse)\n",
    "print('Лучшая комбинация признаков:', best_combination)"
   ]
  },
  {
   "cell_type": "markdown",
   "id": "44deb31b",
   "metadata": {},
   "source": [
    "Принимаем тот факт, что значение метрики адаптировано под текущий сплит, и ДЗ не подразумевает глубокий анализ признаков и валидацию модели"
   ]
  },
  {
   "cell_type": "code",
   "execution_count": 9,
   "id": "85ea93f2",
   "metadata": {
    "scrolled": true
   },
   "outputs": [
    {
     "data": {
      "text/plain": [
       "19.797345349410897"
      ]
     },
     "execution_count": 9,
     "metadata": {},
     "output_type": "execute_result"
    }
   ],
   "source": [
    "X = df[list(best_combination)]\n",
    "y = df['medv']\n",
    "X_train, X_test, y_train, y_test = train_test_split(X, y, test_size=0.2, random_state=42)\n",
    "final_model = LinearRegression()\n",
    "final_model.fit(X_train, y_train)\n",
    "y_pred = final_model.predict(X_test)\n",
    "mse = mean_squared_error(y_test, y_pred)\n",
    "mse"
   ]
  },
  {
   "cell_type": "markdown",
   "id": "1b558479",
   "metadata": {},
   "source": [
    "Используем тот же \"ленивый\" подход для прогноза уровня оксида азота"
   ]
  },
  {
   "cell_type": "code",
   "execution_count": 10,
   "id": "ab096356",
   "metadata": {},
   "outputs": [
    {
     "name": "stdout",
     "output_type": "stream",
     "text": [
      "Лучшая MSE: 0.0031781885468284607\n",
      "Лучшая комбинация признаков: ('ID', 'crim', 'zn', 'indus', 'chas', 'rm', 'age', 'dis', 'rad', 'tax', 'ptratio', 'black', 'lstat', 'medv')\n"
     ]
    }
   ],
   "source": [
    "features_nox = df.columns.drop('nox')\n",
    "combinations_of_features_nox = []\n",
    "for r in range(1, len(features) + 1):\n",
    "    combinations_of_features_nox.extend(combinations(features_nox, r))\n",
    "best_mse_nox = float('inf')\n",
    "best_combination_nox = None\n",
    "for combo in combinations_of_features_nox:\n",
    "    X = df[list(combo)]\n",
    "    y = df['nox']\n",
    "    X_train, X_test, y_train, y_test = train_test_split(X, y, test_size=0.2, random_state=42)\n",
    "    model = LinearRegression()\n",
    "    model.fit(X_train, y_train)\n",
    "    \n",
    "\n",
    "    y_pred = model.predict(X_test)\n",
    "    mse = mean_squared_error(y_test, y_pred)\n",
    "    \n",
    "    #print('Текущая MSE:', mse)\n",
    "    #print('Комбинация признаков:', combo)\n",
    "    if mse < best_mse:\n",
    "        best_mse_nox = mse\n",
    "        best_combination_nox = combo\n",
    "\n",
    "# Вывод лучшего MSE и соответствующего набора признаков\n",
    "print('Лучшая MSE:', best_mse_nox)\n",
    "print('Лучшая комбинация признаков:', best_combination_nox)"
   ]
  },
  {
   "cell_type": "code",
   "execution_count": 11,
   "id": "c9c67dd0",
   "metadata": {},
   "outputs": [
    {
     "data": {
      "text/plain": [
       "0.0031781885468284607"
      ]
     },
     "execution_count": 11,
     "metadata": {},
     "output_type": "execute_result"
    }
   ],
   "source": [
    "X = df[list(best_combination_nox)]\n",
    "y = df['nox']\n",
    "X_train, X_test, y_train, y_test = train_test_split(X, y, test_size=0.2, random_state=42)\n",
    "final_model_nox = LinearRegression()\n",
    "final_model_nox.fit(X_train, y_train)\n",
    "y_pred = final_model_nox.predict(X_test)\n",
    "mse = mean_squared_error(y_test, y_pred)\n",
    "mse"
   ]
  }
 ],
 "metadata": {
  "kernelspec": {
   "display_name": "Python 3 (ipykernel)",
   "language": "python",
   "name": "python3"
  },
  "language_info": {
   "codemirror_mode": {
    "name": "ipython",
    "version": 3
   },
   "file_extension": ".py",
   "mimetype": "text/x-python",
   "name": "python",
   "nbconvert_exporter": "python",
   "pygments_lexer": "ipython3",
   "version": "3.9.16"
  }
 },
 "nbformat": 4,
 "nbformat_minor": 5
}
