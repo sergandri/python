{
 "cells": [
  {
   "cell_type": "code",
   "execution_count": 1,
   "id": "002fe017",
   "metadata": {},
   "outputs": [],
   "source": [
    "import random"
   ]
  },
  {
   "cell_type": "code",
   "execution_count": 12,
   "id": "0c7aa318",
   "metadata": {},
   "outputs": [
    {
     "data": {
      "text/plain": [
       "-0.19911160000000006"
      ]
     },
     "execution_count": 12,
     "metadata": {},
     "output_type": "execute_result"
    }
   ],
   "source": [
    "def calculate_win(number):\n",
    "    fixed_wins = {777: 200, 999: 100, 555: 50, 333: 15, 111: 10}\n",
    "    if number in fixed_wins:\n",
    "        return fixed_wins[number]\n",
    "    elif number % 100 == 77:\n",
    "        return 5\n",
    "    elif number % 10 == 7:\n",
    "        return 3\n",
    "    elif number % 100 == 0:\n",
    "        return 2\n",
    "    elif number % 10 == 0:\n",
    "        return 1\n",
    "    else:\n",
    "        return 0\n",
    "\n",
    "total_winnings = 0\n",
    "total_tries = 5000000\n",
    "\n",
    "for _ in range(total_tries):\n",
    "    number = random.randint(0, 999)\n",
    "    total_winnings += calculate_win(number)\n",
    "\n",
    "average_gain_loss = total_winnings / total_tries - 1\n",
    "average_gain_loss"
   ]
  },
  {
   "cell_type": "code",
   "execution_count": 11,
   "id": "74a5faa8",
   "metadata": {},
   "outputs": [
    {
     "data": {
      "text/plain": [
       "-0.19999999999999996"
      ]
     },
     "execution_count": 11,
     "metadata": {},
     "output_type": "execute_result"
    }
   ],
   "source": [
    "analytical_sol = (200*0.001 + 100*0.001 + 50*0.001 + 15*0.001 + 10*0.001 + 5*0.009 + 3*0.09 + 2*0.01 + 1*0.09)-1\n",
    "analytical_sol"
   ]
  },
  {
   "cell_type": "code",
   "execution_count": null,
   "id": "f0387965",
   "metadata": {},
   "outputs": [],
   "source": []
  }
 ],
 "metadata": {
  "kernelspec": {
   "display_name": "Python 3 (ipykernel)",
   "language": "python",
   "name": "python3"
  },
  "language_info": {
   "codemirror_mode": {
    "name": "ipython",
    "version": 3
   },
   "file_extension": ".py",
   "mimetype": "text/x-python",
   "name": "python",
   "nbconvert_exporter": "python",
   "pygments_lexer": "ipython3",
   "version": "3.9.16"
  }
 },
 "nbformat": 4,
 "nbformat_minor": 5
}
